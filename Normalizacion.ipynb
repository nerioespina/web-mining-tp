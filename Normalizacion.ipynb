{
  "cells": [
    {
      "cell_type": "markdown",
      "metadata": {
        "id": "1LtgDNh2vP8N"
      },
      "source": [
        "# Estimador de precios de inmuebles en la ciudad de San Juan, Argentina."
      ]
    },
    {
      "cell_type": "markdown",
      "metadata": {
        "id": "6gDU9Cn19JYu"
      },
      "source": [
        "## 1. Inicialización: librerías, configuraciones y variables globales"
      ]
    },
    {
      "cell_type": "markdown",
      "metadata": {
        "id": "EqBHioMDvbTo"
      },
      "source": [
        "### Importación de Librerías"
      ]
    },
    {
      "cell_type": "code",
      "execution_count": null,
      "metadata": {
        "collapsed": true,
        "id": "90ZJqL-PbBM5"
      },
      "outputs": [],
      "source": [
        "import requests\n",
        "from bs4 import BeautifulSoup\n",
        "import pandas as pd\n",
        "import sqlite3\n",
        "import re\n",
        "import unicodedata\n",
        "import os\n",
        "from datetime import datetime, timedelta"
      ]
    },
    {
      "cell_type": "markdown",
      "metadata": {
        "id": "AflmSPa2vhjk"
      },
      "source": [
        "## 2. Importación de Base de datos"
      ]
    },
    {
      "cell_type": "markdown",
      "metadata": {
        "id": "dkAOTvco0BUT"
      },
      "source": [
        "### Buscar la base de datos"
      ]
    },
    {
      "cell_type": "code",
      "execution_count": null,
      "metadata": {
        "id": "MGdFIHB20fZ6"
      },
      "outputs": [],
      "source": [
        "\n",
        "conn = sqlite3.connect('inmuebles_full.db')\n",
        "df_all = pd.read_sql_query(\"SELECT * FROM inmuebles\", conn)\n",
        "conn.close()"
      ]
    },
    {
      "cell_type": "markdown",
      "metadata": {},
      "source": [
        "## 3. Normalización de datos"
      ]
    },
    {
      "cell_type": "code",
      "execution_count": null,
      "metadata": {
        "vscode": {
          "languageId": "ruby"
        }
      },
      "outputs": [],
      "source": [
        "df_all.loc[df_all['precio'] == \"Consultar\", 'precio'] = None\n",
        "df_all['moneda'] = df_all['precio'].str.extract(r'([^\\d\\s]+)')\n",
        "df_all['precio'] = df_all['precio'].str.extract(r'(\\d[\\d,.]*)')\n",
        "df_all['precio'] = df_all['precio'].str.replace('.', '', regex=False).str.replace(',', '.', regex=False).astype(float)\n",
        "\n",
        "df_all['visitas'] = df_all['visitas'].str.replace('.', '').astype(int)\n",
        "df_all['anuncio_id'] = df_all['anuncio_id'].astype(int)\n",
        "df_all['superficie_total'] = df_all['superficie_total'].str.extract(r'(\\d+)').astype(float)\n",
        "df_all['superficie_cubierta'] = df_all['superficie_cubierta'].str.extract(r'(\\d+)').astype(float)\n",
        "antiguedad_dummies = pd.get_dummies(df_all['antiguedad'], prefix='antiguedad')\n",
        "df_all = pd.concat([df_all, antiguedad_dummies], axis=1)\n",
        "df_all.drop(columns=['antiguedad'], inplace=True)\n",
        "\n",
        "df_all['apto_credito'] = df_all['apto_credito'].map({'SI': True, 'NO': False})\n",
        "df_all['apto_credito'] = df_all['apto_credito'].astype(bool)\n",
        "df_all['en_barrio_privado'] = df_all['en_barrio_privado'].map({'SI': True, 'NO': False})\n",
        "df_all['en_barrio_privado'] = df_all['en_barrio_privado'].astype(bool)\n",
        "\n",
        "# Crear dummies para la columna 'departamento'\n",
        "departamento_dummies = pd.get_dummies(df_all['departamento'], prefix='departamento')\n",
        "\n",
        "# Concatenar los dummies al dataframe original\n",
        "df_all = pd.concat([df_all, departamento_dummies], axis=1)\n",
        "\n",
        "# Eliminar la columna original 'departamento'\n",
        "df_all.drop(['departamento'], axis=1, inplace=True)\n",
        "\n",
        "# Crear dummies para las columnas banos, ambientes, garages, dormitorios\n",
        "banos_dummies = pd.get_dummies(df_all['banos'], prefix='banos')\n",
        "ambientes_dummies = pd.get_dummies(df_all['ambientes'], prefix='ambientes')\n",
        "garages_dummies = pd.get_dummies(df_all['garages'], prefix='garages')\n",
        "dormitorios_dummies = pd.get_dummies(df_all['dormitorios'], prefix='dormitorios')\n",
        "\n",
        "# Concatenar los dummies al dataframe original\n",
        "df_all = pd.concat([df_all, banos_dummies, ambientes_dummies, garages_dummies, dormitorios_dummies], axis=1)\n",
        "\n",
        "# Eliminar las columnas originales\n",
        "df_all.drop(['banos', 'ambientes', 'garages', 'dormitorios'], axis=1, inplace=True)\n",
        "\n",
        "\n",
        "# Crear dummies para la columna 'orientacion'\n",
        "orientacion_dummies = pd.get_dummies(df_all['orientacion'], prefix='orientacion')\n",
        "\n",
        "# Concatenar los dummies al dataframe original\n",
        "df_all = pd.concat([df_all, orientacion_dummies], axis=1)\n",
        "\n",
        "# Eliminar la columna original 'orientacion'\n",
        "df_all.drop(['orientacion'], axis=1, inplace=True)\n",
        "\n",
        "# Borrar la columna 'procesado' si existe\n",
        "df_all.drop(['procesado'], axis=1, inplace=True)"
      ]
    },
    {
      "cell_type": "code",
      "execution_count": null,
      "metadata": {},
      "outputs": [],
      "source": [
        "# Fecha de extracción\n",
        "fecha_extraccion = datetime(2025, 3, 25)\n",
        "\n",
        "# Función para convertir valores no correspondientes a fechas\n",
        "def convertir_a_fecha(valor):\n",
        "    if valor == 'Hoy':\n",
        "        return fecha_extraccion.strftime('%d/%m/%Y')\n",
        "    elif valor == 'Ayer':\n",
        "        return (fecha_extraccion - timedelta(days=1)).strftime('%d/%m/%Y')\n",
        "    elif re.match(r'Hace (\\d+) días', valor):\n",
        "        dias = int(re.search(r'(\\d+)', valor).group(1))\n",
        "        return (fecha_extraccion - timedelta(days=dias)).strftime('%d/%m/%Y')\n",
        "    else:\n",
        "        return valor\n",
        "\n",
        "# Aplicar la función a la columna 'publicacion'\n",
        "df_all['publicacion'] = df_all['publicacion'].apply(convertir_a_fecha)\n",
        "\n",
        "# Convertir la columna 'publicacion' a tipo datetime\n",
        "df_all['publicacion'] = pd.to_datetime(df_all['publicacion'], format='%d/%m/%Y', errors='coerce')\n"
      ]
    },
    {
      "cell_type": "code",
      "execution_count": null,
      "metadata": {
        "vscode": {
          "languageId": "powershell"
        }
      },
      "outputs": [],
      "source": [
        "# Eliminar registros sin longitud y latitud\n",
        "df_all = df_all.dropna(subset=['latitude', 'longitude'])\n",
        "\n",
        "# Eliminar las columnas especificadas\n",
        "df_all = df_all.drop(columns=['calle', 'barrio', 'numero'])\n"
      ]
    },
    {
      "cell_type": "code",
      "execution_count": null,
      "metadata": {},
      "outputs": [],
      "source": [
        "response = requests.get(\"https://dolarapi.com/v1/dolares/bolsa\")\n",
        "dolar_bolsa_data = response.json()\n",
        "\n",
        "datos_dolar = {\n",
        "    \"moneda\": dolar_bolsa_data.get(\"moneda\"),\n",
        "    \"casa\": dolar_bolsa_data.get(\"casa\"),\n",
        "    \"nombre\": dolar_bolsa_data.get(\"nombre\"),\n",
        "    \"compra\": dolar_bolsa_data.get(\"compra\"),\n",
        "    \"venta\": dolar_bolsa_data.get(\"venta\"),\n",
        "    \"fechaActualizacion\": dolar_bolsa_data.get(\"fechaActualizacion\")\n",
        "}\n",
        "\n",
        "valor_dolar = (datos_dolar['compra'] + datos_dolar['venta']) / 2\n",
        "\n",
        "# cambiar los precios con moneda en pesos a dólares\n",
        "df_all.loc[df_all['moneda'] == '$', 'precio'] = df_all['precio'] / valor_dolar\n",
        "df_all.drop(columns=['moneda'], inplace=True)\n"
      ]
    },
    {
      "cell_type": "code",
      "execution_count": null,
      "metadata": {},
      "outputs": [],
      "source": [
        "# Configurar pandas para mostrar todas las columnas y filas sin recortar\n",
        "pd.set_option('display.max_columns', None)\n",
        "pd.set_option('display.max_rows', None)\n",
        "\n",
        "# Mostrar los tipos de datos del DataFrame\n",
        "df_all.dtypes"
      ]
    },
    {
      "cell_type": "code",
      "execution_count": null,
      "metadata": {
        "vscode": {
          "languageId": "ruby"
        }
      },
      "outputs": [],
      "source": [
        "# Concatenar las columnas 'comentario_caracteristicas', 'comentario' y 'titulo', manejando valores nulos\n",
        "df_all['comentarios'] = df_all[['comentario_caracteristicas', 'comentario', 'titulo']].fillna('').agg(' '.join, axis=1)\n",
        "\n",
        "# Eliminar las columnas originales 'comentario_caracteristicas', 'comentario' y 'titulo'\n",
        "df_all.drop(columns=['comentario_caracteristicas', 'comentario', 'titulo'], inplace=True)\n",
        "\n",
        "# df_all['comentarios'] = df_all['comentarios'].str.replace(r'[^a-zA-Z0-9\\s]', '', regex=True)\n",
        "# Mostrar todos los comentarios\n",
        "print(df_all['comentarios'])\n"
      ]
    },
    {
      "cell_type": "code",
      "execution_count": null,
      "metadata": {
        "vscode": {
          "languageId": "ruby"
        }
      },
      "outputs": [],
      "source": [
        "df_all.head()"
      ]
    },
    {
      "cell_type": "code",
      "execution_count": null,
      "metadata": {
        "vscode": {
          "languageId": "ruby"
        }
      },
      "outputs": [],
      "source": [
        "conn = sqlite3.connect('inmuebles_normalizada.db')\n",
        "df_all.to_sql('inmuebles', conn, if_exists='replace', index=False)\n",
        "conn.close()"
      ]
    }
  ],
  "metadata": {
    "colab": {
      "provenance": []
    },
    "kernelspec": {
      "display_name": ".venv",
      "language": "python",
      "name": "python3"
    },
    "language_info": {
      "codemirror_mode": {
        "name": "ipython",
        "version": 3
      },
      "file_extension": ".py",
      "mimetype": "text/x-python",
      "name": "python",
      "nbconvert_exporter": "python",
      "pygments_lexer": "ipython3",
      "version": "3.12.3"
    }
  },
  "nbformat": 4,
  "nbformat_minor": 0
}
