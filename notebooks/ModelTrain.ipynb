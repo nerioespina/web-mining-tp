{
 "cells": [
  {
   "cell_type": "code",
   "execution_count": null,
   "id": "8e52c69e",
   "metadata": {},
   "outputs": [],
   "source": [
    "import requests\n",
    "from bs4 import BeautifulSoup\n",
    "\n",
    "import sqlite3\n",
    "import re\n",
    "import unicodedata\n",
    "import os\n",
    "from datetime import datetime, timedelta\n",
    "\n",
    "import warnings\n",
    "warnings.filterwarnings('ignore')\n",
    "\n",
    "import numpy as np\n",
    "import pandas as pd\n",
    "import matplotlib.pyplot as plt\n",
    "import seaborn as sns\n",
    "\n",
    "import re\n",
    "import string\n",
    "import joblib\n",
    "\n",
    "import lightgbm as lgb\n",
    "\n",
    "from sklearn.model_selection import train_test_split, GridSearchCV, train_test_split\n",
    "from sklearn.feature_extraction.text import TfidfVectorizer, CountVectorizer\n",
    "from sklearn.naive_bayes import MultinomialNB\n",
    "from sklearn.metrics import classification_report, confusion_matrix, RocCurveDisplay, ConfusionMatrixDisplay, roc_curve, auc\n",
    "from sklearn.linear_model import LogisticRegression\n",
    "from sklearn.ensemble import RandomForestClassifier\n",
    "from sklearn.impute import SimpleImputer\n",
    "from sklearn.ensemble import VotingClassifier\n",
    "\n",
    "\n",
    "import spacy\n",
    "nlp = spacy.load('es_core_news_sm')\n",
    "import optuna"
   ]
  },
  {
   "cell_type": "code",
   "execution_count": null,
   "id": "d0e4c82e",
   "metadata": {},
   "outputs": [],
   "source": [
    "conn = sqlite3.connect('inmuebles_final.db')\n",
    "df_all = pd.read_sql_query(\"SELECT * FROM vista_inmuebles where categoria_id = 4 and departamento_id = 6\", conn)\n",
    "conn.close()\n",
    "df_all.head()"
   ]
  },
  {
   "cell_type": "code",
   "execution_count": null,
   "id": "6eb9c415",
   "metadata": {},
   "outputs": [],
   "source": [
    "# Eliminar filas con valores nulos en la columna 'precio'\n",
    "df_all = df_all.dropna(subset=['precio'])\n",
    "\n",
    "# Agregar una nueva columna 'clase' basada en el precio\n",
    "df_all['clase'] = (df_all['precio'] // 25000).astype(int)\n",
    "\n",
    "# Mostrar las primeras filas del DataFrame para verificar el resultado\n",
    "df_all[['precio', 'clase']].head()"
   ]
  },
  {
   "cell_type": "code",
   "execution_count": null,
   "id": "2d265acb",
   "metadata": {},
   "outputs": [],
   "source": [
    "df_all = df_all.select_dtypes(exclude=['object'])\n",
    "df_all.dtypes"
   ]
  },
  {
   "cell_type": "code",
   "execution_count": null,
   "id": "71a7739a",
   "metadata": {},
   "outputs": [],
   "source": [
    "# Eliminar registros con valores nulos en ambas columnas\n",
    "df_all = df_all.dropna(subset=['superficie_total', 'superficie_cubierta'])\n",
    "\n",
    "# Mostrar las primeras filas para verificar\n",
    "df_all.head()"
   ]
  },
  {
   "cell_type": "code",
   "execution_count": null,
   "id": "e78a456b",
   "metadata": {},
   "outputs": [],
   "source": [
    "# Calcular la matriz de correlación\n",
    "correlation_matrix = df_all.corr()\n",
    "\n",
    "# Visualizar la matriz de correlación\n",
    "plt.figure(figsize=(12, 8))\n",
    "sns.heatmap(correlation_matrix, annot=True, fmt=\".2f\", cmap=\"coolwarm\", cbar=True)\n",
    "plt.title(\"Matriz de Correlación\")\n",
    "plt.show()"
   ]
  },
  {
   "cell_type": "code",
   "execution_count": null,
   "id": "3165ecf7",
   "metadata": {},
   "outputs": [],
   "source": [
    "from sklearn.metrics import silhouette_score\n",
    "import matplotlib.pyplot as plt\n",
    "from sklearn.cluster import KMeans # <-- Añade esta línea\n",
    "\n",
    "inertias = []\n",
    "for k in range(2, 20):\n",
    "    kmeans = KMeans(n_clusters=k, random_state=42)\n",
    "    kmeans.fit(df_all[['longitude', 'latitude']])\n",
    "    inertias.append(kmeans.inertia_)\n",
    "\n",
    "plt.plot(range(2, 20), inertias, marker='o')\n",
    "plt.xlabel('Número de clusters')\n",
    "plt.ylabel('Inercia')\n",
    "plt.show()"
   ]
  },
  {
   "cell_type": "code",
   "execution_count": null,
   "id": "5d425f04",
   "metadata": {},
   "outputs": [],
   "source": [
    "df_all['precio_m2'] = df_all['precio'] / df_all['superficie_cubierta_m2']"
   ]
  },
  {
   "cell_type": "code",
   "execution_count": null,
   "id": "a81a3753",
   "metadata": {},
   "outputs": [],
   "source": [
    "df_all = df_all[df_all['precio_m2'] != float('inf')]"
   ]
  },
  {
   "cell_type": "code",
   "execution_count": null,
   "id": "4a3170dd",
   "metadata": {},
   "outputs": [],
   "source": [
    "X = df_all[['longitude', 'latitude']]\n",
    "\n",
    "# Elegir número de clusters (puedes ajustar esto según la cantidad de barrios esperados)\n",
    "n_clusters = 10  # Ejemplo, usa un método como Elbow para optimizar\n",
    "kmeans = KMeans(n_clusters=n_clusters, random_state=42)\n",
    "df_all['cluster'] = kmeans.fit_predict(X)\n",
    "\n",
    "# Calcular precio promedio por m² por cluster\n",
    "cluster_precios = df_all.groupby('cluster')['precio_m2'].mean().reset_index()\n",
    "cluster_precios.columns = ['cluster', 'precio_m2_promedio']\n",
    "\n",
    "# Añadir centroides de los clusters (para uso futuro)\n",
    "cluster_centers = pd.DataFrame(kmeans.cluster_centers_, columns=['longitud_centro', 'latitud_centro'])\n",
    "cluster_centros = pd.concat([pd.Series(range(n_clusters), name='cluster'), cluster_centers], axis=1)\n",
    "\n",
    "# Combinar información de clusters\n",
    "clusters_info = pd.merge(cluster_precios, cluster_centros, on='cluster')\n",
    "print(clusters_info)"
   ]
  },
  {
   "cell_type": "code",
   "execution_count": null,
   "id": "e006b487",
   "metadata": {},
   "outputs": [],
   "source": [
    "from scipy.spatial.distance import cdist\n",
    "\n",
    "def predecir_precio_m2(longitud, latitud):\n",
    "    # Cargar información de clusters desde la base de datos\n",
    "    # clusters_info = pd.read_sql('clusters', engine)\n",
    "    \n",
    "    # Coordenadas nuevas\n",
    "    nueva_coord = np.array([[longitud, latitud]])\n",
    "    \n",
    "    # Encontrar el cluster más cercano\n",
    "    centroides = clusters_info[['longitud_centro', 'latitud_centro']].values\n",
    "    distancia = cdist(nueva_coord, centroides, metric='euclidean')\n",
    "    cluster_asignado = np.argmin(distancia)\n",
    "    \n",
    "    # Obtener precio por m² del cluster\n",
    "    precio_m2 = clusters_info.loc[clusters_info['cluster'] == cluster_asignado, 'precio_m2_promedio'].values[0]\n",
    "    \n",
    "    return cluster_asignado, precio_m2\n",
    "\n"
   ]
  },
  {
   "cell_type": "code",
   "execution_count": null,
   "id": "6860f37f",
   "metadata": {},
   "outputs": [],
   "source": [
    "# Agregar la columna 'precio_cluster' al DataFrame\n",
    "df_all['precio_cluster'] = df_all.apply(lambda row: predecir_precio_m2(row['longitude'], row['latitude'])[1], axis=1)\n",
    "\n",
    "# Mostrar las primeras filas para verificar\n",
    "df_all[['longitude', 'latitude', 'precio_cluster']].head()\n"
   ]
  },
  {
   "cell_type": "code",
   "execution_count": null,
   "id": "0b0fc02c",
   "metadata": {},
   "outputs": [],
   "source": [
    "df_all = df_all.drop(columns=['precio'])"
   ]
  },
  {
   "cell_type": "code",
   "execution_count": null,
   "id": "35fd501e",
   "metadata": {},
   "outputs": [],
   "source": [
    "!pip install h2o"
   ]
  },
  {
   "cell_type": "code",
   "execution_count": null,
   "id": "943dd026",
   "metadata": {},
   "outputs": [],
   "source": [
    "import h2o\n",
    "from h2o.automl import H2OAutoML\n",
    "\n",
    "# Initialize H2O\n",
    "h2o.init()\n",
    "\n",
    "# Convert pandas DataFrame to H2OFrame\n",
    "h2o_df = h2o.H2OFrame(df_all)\n",
    "\n",
    "# Specify predictors and target\n",
    "predictors = [col for col in h2o_df.columns if col != 'clase']\n",
    "target = 'clase'\n",
    "\n",
    "# Split data into train and test sets\n",
    "train, test = h2o_df.split_frame(ratios=[0.8], seed=42)\n",
    "\n",
    "# Train an H2O AutoML model\n",
    "aml = H2OAutoML(max_models=10, seed=42)\n",
    "aml.train(x=predictors, y=target, training_frame=train)\n",
    "\n",
    "# View the leaderboard\n",
    "lb = aml.leaderboard\n",
    "print(lb)\n",
    "\n",
    "# Predict on the test set\n",
    "predictions = aml.leader.predict(test)\n",
    "print(predictions)"
   ]
  },
  {
   "cell_type": "code",
   "execution_count": null,
   "id": "3e72144d",
   "metadata": {},
   "outputs": [],
   "source": [
    "# Convert H2OFrame predictions to pandas DataFrame\n",
    "predictions_df = predictions.as_data_frame()\n",
    "\n",
    "# Convert H2OFrame test set to pandas DataFrame\n",
    "test_df = test.as_data_frame()\n",
    "\n",
    "# Add predictions to the test DataFrame\n",
    "test_df['predicted_clase'] = predictions_df['predict']\n",
    "\n",
    "# Compare predictions with actual 'clase' values\n",
    "comparison = test_df[['clase', 'predicted_clase']]\n",
    "print(comparison.head())"
   ]
  },
  {
   "cell_type": "code",
   "execution_count": null,
   "id": "67a5e608",
   "metadata": {},
   "outputs": [],
   "source": [
    "# Calcular el porcentaje de error para cada fila\n",
    "test_df['error_porcentaje'] = abs(test_df['clase'] - test_df['predicted_clase']) / test_df['clase'] * 100\n",
    "\n",
    "# Calcular el promedio de los errores porcentuales\n",
    "error_promedio = test_df['error_porcentaje'].mean()\n",
    "\n",
    "print(f\"El porcentaje promedio de error es: {error_promedio:.2f}%\")"
   ]
  },
  {
   "cell_type": "code",
   "execution_count": null,
   "id": "57b51d2c",
   "metadata": {},
   "outputs": [],
   "source": [
    "# Save the best model\n",
    "model_path = h2o.save_model(model=aml.leader, path=\"./best_model\", force=True)\n",
    "print(f\"Model saved to: {model_path}\")"
   ]
  }
 ],
 "metadata": {
  "kernelspec": {
   "display_name": ".venv",
   "language": "python",
   "name": "python3"
  },
  "language_info": {
   "codemirror_mode": {
    "name": "ipython",
    "version": 3
   },
   "file_extension": ".py",
   "mimetype": "text/x-python",
   "name": "python",
   "nbconvert_exporter": "python",
   "pygments_lexer": "ipython3",
   "version": "3.12.3"
  }
 },
 "nbformat": 4,
 "nbformat_minor": 5
}
