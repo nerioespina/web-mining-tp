{
  "cells": [
    {
      "cell_type": "markdown",
      "metadata": {
        "id": "1LtgDNh2vP8N"
      },
      "source": [
        "# Estimador de precios de inmuebles en la ciudad de San Juan, Argentina."
      ]
    },
    {
      "cell_type": "markdown",
      "metadata": {
        "id": "6gDU9Cn19JYu"
      },
      "source": [
        "## 1. Inicialización: librerías, configuraciones y variables globales"
      ]
    },
    {
      "cell_type": "markdown",
      "metadata": {
        "id": "EqBHioMDvbTo"
      },
      "source": [
        "### Importación de Librerías"
      ]
    },
    {
      "cell_type": "code",
      "execution_count": null,
      "metadata": {
        "collapsed": true,
        "id": "90ZJqL-PbBM5"
      },
      "outputs": [],
      "source": [
        "import requests\n",
        "from bs4 import BeautifulSoup\n",
        "import pandas as pd\n",
        "import sqlite3\n",
        "import re\n",
        "import unicodedata\n",
        "import os\n",
        "from datetime import datetime, timedelta"
      ]
    },
    {
      "cell_type": "markdown",
      "metadata": {
        "id": "AflmSPa2vhjk"
      },
      "source": [
        "## 2. Importación de Base de datos"
      ]
    },
    {
      "cell_type": "markdown",
      "metadata": {
        "id": "dkAOTvco0BUT"
      },
      "source": [
        "### Buscar la base de datos"
      ]
    },
    {
      "cell_type": "code",
      "execution_count": null,
      "metadata": {
        "id": "MGdFIHB20fZ6"
      },
      "outputs": [],
      "source": [
        "\n",
        "conn = sqlite3.connect('inmuebles_full.db')\n",
        "df_all = pd.read_sql_query(\"SELECT * FROM inmuebles\", conn)\n",
        "conn.close()"
      ]
    },
    {
      "cell_type": "markdown",
      "metadata": {},
      "source": [
        "## 3. Normalización de datos"
      ]
    },
    {
      "cell_type": "code",
      "execution_count": null,
      "metadata": {},
      "outputs": [],
      "source": [
        "df_all.shape"
      ]
    },
    {
      "cell_type": "code",
      "execution_count": null,
      "metadata": {},
      "outputs": [],
      "source": [
        "# Eliminar duplicados conservando el registro con menos valores nulos\n",
        "df_all = df_all.loc[df_all.isnull().sum(axis=1).groupby(df_all['anuncio_id']).idxmin()]\n",
        "df_all.shape\n",
        "\n",
        "# Alternativa\n",
        "# df_all = df_all.drop_duplicates(subset='anuncio_id', keep='last')"
      ]
    },
    {
      "cell_type": "code",
      "execution_count": null,
      "metadata": {},
      "outputs": [],
      "source": [
        "def estandarizar_superficie_a_metros(texto_superficie):\n",
        "    \"\"\"\n",
        "    Intenta convertir una cadena de texto de superficie (en m² o ha) a metros cuadrados.\n",
        "    Prioriza hectáreas. Si no encuentra hectáreas, busca el primer número y asume metros.\n",
        "\n",
        "    Args:\n",
        "        texto_superficie (str): La cadena de texto que describe la superficie.\n",
        "\n",
        "    Returns:\n",
        "        float or None: La superficie en metros cuadrados si se pudo convertir,\n",
        "                       None en caso contrario (ej: rangos, descripciones no numéricas).\n",
        "    \"\"\"\n",
        "    if not isinstance(texto_superficie, str):\n",
        "        # Si no es una cadena o es nulo, retornar None\n",
        "        return None\n",
        "\n",
        "    texto_limpio = texto_superficie.strip().lower()\n",
        "\n",
        "    # Limpieza básica y normalización: comas a puntos, eliminar puntos extra (miles), paréntesis\n",
        "    texto_limpio = texto_limpio.replace(',', '.')\n",
        "    # Eliminar puntos que no son decimales (ej: 7.100 -> 7100) - CUIDADO: esto asume que los puntos son separadores de miles\n",
        "    # Si 7.100 es 7.1 hectáreas, la lógica de decimales debe manejarlo.\n",
        "    # Un enfoque más seguro es solo reemplazar comas por puntos y confiar en float()\n",
        "    # texto_limpio = texto_limpio.replace('.', '', texto_limpio.count('.') - 1) # Riesgoso si hay puntos decimales múltiples mal formados\n",
        "    texto_limpio = texto_limpio.replace('(', '').replace(')', '') # Eliminar paréntesis como en (63.000m\n",
        "\n",
        "    # Eliminar texto irrelevante común\n",
        "    texto_limpio = texto_limpio.replace('aprox', '').replace('casi', '').replace('son', '')\n",
        "    texto_limpio = texto_limpio.replace('s/título', '').replace('en t', '')\n",
        "    texto_limpio = texto_limpio.replace('hectarea y media', '1.5 hectareas') # Normalizar \"una hectárea y media\"\n",
        "\n",
        "    # --- 1. Intentar extraer hectáreas (Prioridad Alta) ---\n",
        "    # Busca un número (incluye decimales, fracciones, o número seguido de 'mil') seguido de una unidad de hectárea\n",
        "    patron_hectareas = re.compile(r'(\\d*\\.?\\d+|\\d+\\/\\d+|\\d+\\s*mil)\\s*(ha|has|hectarea|hectareas|hectares|hás|ht|hs|hec)', re.IGNORECASE)\n",
        "    match_ha = patron_hectareas.search(texto_limpio)\n",
        "\n",
        "    if match_ha:\n",
        "        valor_str = match_ha.group(1).strip()\n",
        "        try:\n",
        "            if '/' in valor_str: # Manejar fracciones como 1/2\n",
        "                 num, den = map(float, valor_str.split('/')) # Usar float para posible 0.5\n",
        "                 hectareas = num / den\n",
        "            elif 'mil' in valor_str: # Manejar \"5 mil hectáreas\"\n",
        "                 hectareas = float(valor_str.replace('mil', '').strip()) * 1000\n",
        "            else:\n",
        "                hectareas = float(valor_str) # Convertir el número principal\n",
        "            metros_totales = hectareas * 10000\n",
        "\n",
        "            # Buscar si hay metros adicionales en la misma cadena (ej: 2 hectareas 5462 mts)\n",
        "            # Eliminar la parte de hectáreas procesada para buscar metros en el resto\n",
        "            texto_sin_ha = texto_limpio[:match_ha.start()] + texto_limpio[match_ha.end():]\n",
        "            patron_metros_adicionales = re.compile(r'(\\d*\\.?\\d+)\\s*(mts|m2|m²|m)', re.IGNORECASE)\n",
        "            match_metros = patron_metros_adicionales.search(texto_sin_ha)\n",
        "            if match_metros:\n",
        "                 try:\n",
        "                     metros_adicionales = float(match_metros.group(1).strip())\n",
        "                     metros_totales += metros_adicionales\n",
        "                 except ValueError:\n",
        "                     pass # Ignorar si no se pudo convertir los metros adicionales\n",
        "\n",
        "            return float(metros_totales) # Retorna el total (ha convertidas + metros adicionales)\n",
        "\n",
        "        except ValueError:\n",
        "            # Si el número de hectáreas no se pudo convertir, esta cadena no es procesable como hectárea\n",
        "            pass # No retornamos aún, pasamos a la lógica de fallback\n",
        "\n",
        "    # --- 2. Lógica de Fallback (Si no se encontraron hectáreas) ---\n",
        "    # Si llegamos aquí, no encontramos un patrón claro de hectáreas.\n",
        "    # Ahora, verificamos si es una cadena que no deberíamos intentar convertir.\n",
        "    palabras_clave_no_superficie = ['desde', 'hasta', 'dep', 'coch', 'no hay construccione', 'produccion']\n",
        "    if any(palabra in texto_limpio for palabra in palabras_clave_no_superficie):\n",
        "         return None # Es un texto que indica otra cosa o un rango\n",
        "\n",
        "    # Si no es una cadena no convertible explícitamente, buscamos el primer número.\n",
        "    # Esto cubre casos como '800' (asumiendo metros) o '63000m' que no fue capturado por ha.\n",
        "    patron_cualquier_numero = re.compile(r'(\\d*\\.?\\d+)') # Busca el primer número (entero o decimal)\n",
        "    match_numero = patron_cualquier_numero.search(texto_limpio)\n",
        "\n",
        "    if match_numero:\n",
        "        try:\n",
        "            # Asumir que este número es en metros cuadrados\n",
        "            metros = float(match_numero.group(1).strip())\n",
        "            # Considerar casos como '6,3hectareas(63.000m' donde ya está la conversión\n",
        "            # Si el número es muy grande y no se detectó 'ha', podría ser un error,\n",
        "            # pero siguiendo la lógica de fallback, lo asumimos como metros.\n",
        "            # Una validación adicional podría ser útil aquí (ej: si > 1,000,000 m² y no es ha, quizás sea un error).\n",
        "            # Por ahora, solo retornamos el número encontrado asumiendo metros.\n",
        "            return metros\n",
        "        except ValueError:\n",
        "            pass # No se pudo convertir el número, retornar None\n",
        "\n",
        "    # Si no se encontró patrón de hectáreas, no es texto no convertible explícito, y no se encontró ningún número\n",
        "    return None # No se pudo estandarizar\n",
        "\n",
        "\n",
        "\n",
        "# Aplicar la función a la columna 'superficie_total'\n",
        "df_all['superficie_total_m2'] = df_all['superficie_total'].apply(estandarizar_superficie_a_metros)\n",
        "df_all['superficie_cubierta_m2'] = df_all['superficie_cubierta'].apply(estandarizar_superficie_a_metros)"
      ]
    },
    {
      "cell_type": "code",
      "execution_count": null,
      "metadata": {
        "vscode": {
          "languageId": "ruby"
        }
      },
      "outputs": [],
      "source": [
        "df_all.loc[df_all['precio'] == \"Consultar\", 'precio'] = None\n",
        "df_all['moneda'] = df_all['precio'].str.extract(r'([^\\d\\s]+)')\n",
        "df_all['precio'] = df_all['precio'].str.extract(r'(\\d[\\d,.]*)')\n",
        "df_all['precio'] = df_all['precio'].str.replace('.', '', regex=False).str.replace(',', '.', regex=False).astype(float)\n",
        "\n",
        "df_all['visitas'] = df_all['visitas'].str.replace('.', '').astype(int)\n",
        "df_all['anuncio_id'] = df_all['anuncio_id'].astype(int)\n",
        "df_all['superficie_total'] = df_all['superficie_total'].str.extract(r'(\\d+)').astype(float)\n",
        "df_all['superficie_cubierta'] = df_all['superficie_cubierta'].str.extract(r'(\\d+)').astype(float)\n",
        "\n",
        "\n",
        "df_all['apto_credito'] = df_all['apto_credito'].map({'SI': True, 'NO': False})\n",
        "df_all['apto_credito'] = df_all['apto_credito'].astype(bool)\n",
        "df_all['en_barrio_privado'] = df_all['en_barrio_privado'].map({'SI': True, 'NO': False})\n",
        "df_all['en_barrio_privado'] = df_all['en_barrio_privado'].astype(bool)\n",
        "\n",
        "\n",
        "# Borrar la columna 'procesado' si existe\n",
        "df_all.drop(['procesado'], axis=1, inplace=True)"
      ]
    },
    {
      "cell_type": "code",
      "execution_count": null,
      "metadata": {},
      "outputs": [],
      "source": [
        "# Fecha de extracción\n",
        "fecha_extraccion = datetime(2025, 4, 15)\n",
        "\n",
        "# Función para convertir valores no correspondientes a fechas\n",
        "def convertir_a_fecha(valor):\n",
        "    if valor == 'Hoy':\n",
        "        return fecha_extraccion.strftime('%d/%m/%Y')\n",
        "    elif valor == 'Ayer':\n",
        "        return (fecha_extraccion - timedelta(days=1)).strftime('%d/%m/%Y')\n",
        "    elif re.match(r'Hace (\\d+) días', valor):\n",
        "        dias = int(re.search(r'(\\d+)', valor).group(1))\n",
        "        return (fecha_extraccion - timedelta(days=dias)).strftime('%d/%m/%Y')\n",
        "    else:\n",
        "        return valor\n",
        "\n",
        "# Aplicar la función a la columna 'publicacion'\n",
        "df_all['publicacion'] = df_all['publicacion'].apply(convertir_a_fecha)\n",
        "\n",
        "# Convertir la columna 'publicacion' a tipo datetime\n",
        "df_all['publicacion'] = pd.to_datetime(df_all['publicacion'], format='%d/%m/%Y', errors='coerce')\n"
      ]
    },
    {
      "cell_type": "code",
      "execution_count": null,
      "metadata": {
        "vscode": {
          "languageId": "powershell"
        }
      },
      "outputs": [],
      "source": [
        "# Eliminar registros sin longitud y latitud\n",
        "df_all = df_all.dropna(subset=['latitude', 'longitude'])\n",
        "\n",
        "# Eliminar las columnas especificadas\n",
        "df_all = df_all.drop(columns=['calle', 'barrio', 'numero'])\n"
      ]
    },
    {
      "cell_type": "code",
      "execution_count": null,
      "metadata": {},
      "outputs": [],
      "source": [
        "response = requests.get(\"https://dolarapi.com/v1/dolares/oficial\")\n",
        "dolar_bolsa_data = response.json()\n",
        "\n",
        "datos_dolar = {\n",
        "    \"moneda\": dolar_bolsa_data.get(\"moneda\"),\n",
        "    \"casa\": dolar_bolsa_data.get(\"casa\"),\n",
        "    \"nombre\": dolar_bolsa_data.get(\"nombre\"),\n",
        "    \"compra\": dolar_bolsa_data.get(\"compra\"),\n",
        "    \"venta\": dolar_bolsa_data.get(\"venta\"),\n",
        "    \"fechaActualizacion\": dolar_bolsa_data.get(\"fechaActualizacion\")\n",
        "}\n",
        "\n",
        "valor_dolar = (datos_dolar['compra'] + datos_dolar['venta']) / 2\n",
        "\n",
        "# cambiar los precios con moneda en pesos a dólares\n",
        "df_all.loc[df_all['moneda'] == '$', 'precio'] = df_all['precio'] / valor_dolar\n",
        "df_all.drop(columns=['moneda'], inplace=True)\n"
      ]
    },
    {
      "cell_type": "code",
      "execution_count": null,
      "metadata": {},
      "outputs": [],
      "source": [
        "# Configurar pandas para mostrar todas las columnas y filas sin recortar\n",
        "pd.set_option('display.max_columns', None)\n",
        "pd.set_option('display.max_rows', None)\n",
        "\n",
        "# Mostrar los tipos de datos del DataFrame\n",
        "df_all.dtypes"
      ]
    },
    {
      "cell_type": "code",
      "execution_count": null,
      "metadata": {
        "vscode": {
          "languageId": "ruby"
        }
      },
      "outputs": [],
      "source": [
        "# Concatenar las columnas 'comentario_caracteristicas', 'comentario' y 'titulo', manejando valores nulos\n",
        "df_all['comentarios'] = df_all[['comentario_caracteristicas', 'comentario', 'titulo']].fillna('').agg(' '.join, axis=1)\n",
        "\n",
        "# Eliminar las columnas originales 'comentario_caracteristicas', 'comentario' y 'titulo'\n",
        "df_all.drop(columns=['comentario_caracteristicas', 'comentario', 'titulo'], inplace=True)\n",
        "\n",
        "# df_all['comentarios'] = df_all['comentarios'].str.replace(r'[^a-zA-Z0-9\\s]', '', regex=True)\n",
        "# Mostrar todos los comentarios\n",
        "print(df_all['comentarios'])\n"
      ]
    },
    {
      "cell_type": "code",
      "execution_count": null,
      "metadata": {
        "vscode": {
          "languageId": "ruby"
        }
      },
      "outputs": [],
      "source": [
        "df_all.head()"
      ]
    },
    {
      "cell_type": "code",
      "execution_count": null,
      "metadata": {},
      "outputs": [],
      "source": [
        "import shutil\n",
        "\n",
        "# Copy the database file to preserve other tables\n",
        "shutil.copy('inmuebles_full.db', 'inmuebles_final.db')"
      ]
    },
    {
      "cell_type": "code",
      "execution_count": null,
      "metadata": {
        "vscode": {
          "languageId": "ruby"
        }
      },
      "outputs": [],
      "source": [
        "conn = sqlite3.connect('inmuebles_final.db')\n",
        "df_all.to_sql('inmuebles', conn, if_exists='replace', index=False)\n",
        "conn.close()"
      ]
    }
  ],
  "metadata": {
    "colab": {
      "provenance": []
    },
    "kernelspec": {
      "display_name": ".venv",
      "language": "python",
      "name": "python3"
    },
    "language_info": {
      "codemirror_mode": {
        "name": "ipython",
        "version": 3
      },
      "file_extension": ".py",
      "mimetype": "text/x-python",
      "name": "python",
      "nbconvert_exporter": "python",
      "pygments_lexer": "ipython3",
      "version": "3.12.3"
    }
  },
  "nbformat": 4,
  "nbformat_minor": 0
}
