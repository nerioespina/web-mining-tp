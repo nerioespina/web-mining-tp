{
 "cells": [
  {
   "cell_type": "markdown",
   "metadata": {},
   "source": [
    "## 1-Sweetvitz"
   ]
  },
  {
   "cell_type": "code",
   "execution_count": null,
   "metadata": {},
   "outputs": [],
   "source": [
    "!pip install sweetviz"
   ]
  },
  {
   "cell_type": "code",
   "execution_count": null,
   "metadata": {},
   "outputs": [],
   "source": [
    "import sqlite3\n",
    "import pandas as pd\n",
    "import sweetviz as sv\n",
    "\n"
   ]
  },
  {
   "cell_type": "code",
   "execution_count": null,
   "metadata": {},
   "outputs": [],
   "source": [
    "# Conexión a la base de datos\n",
    "conn = sqlite3.connect(\"inmuebles_final.db\")\n",
    "\n",
    "# Cargar la tabla\n",
    "df = pd.read_sql(\"SELECT * FROM inmuebles\", conn)\n",
    "conn.close()\n",
    "\n",
    "# Crear y mostrar el análisis con Sweetviz\n",
    "report = sv.analyze(df)\n",
    "report.show_html(\"EDA_inmuebles_sweetviz.html\")"
   ]
  },
  {
   "cell_type": "markdown",
   "metadata": {},
   "source": [
    "## 2-YData Profiling"
   ]
  },
  {
   "cell_type": "code",
   "execution_count": null,
   "metadata": {},
   "outputs": [],
   "source": [
    "!pip install ydata_profiling"
   ]
  },
  {
   "cell_type": "code",
   "execution_count": null,
   "metadata": {},
   "outputs": [],
   "source": [
    "import sqlite3\n",
    "import pandas as pd\n",
    "from ydata_profiling import ProfileReport\n",
    "\n",
    "# Conexión a la base de datos\n",
    "conn = sqlite3.connect(\"inmuebles_final.db\")\n",
    "df = pd.read_sql(\"SELECT * FROM vista_inmuebles where categoria_id = 4\", conn)\n",
    "conn.close()\n",
    "\n",
    "# Eliminar registros con valores nulos en ambas columnas\n",
    "df = df.dropna(subset=['superficie_total', 'superficie_cubierta'])\n",
    "\n",
    "# Mostrar las primeras filas para verificar\n",
    "df.head()\n",
    "\n",
    "# Crear y mostrar el análisis\n",
    "profile = ProfileReport(df, title=\"EDA con YData Profiling\", explorative=True)\n",
    "profile.to_file(\"EDA_inmuebles_ydata_profiling.html\")\n"
   ]
  },
  {
   "cell_type": "code",
   "execution_count": null,
   "metadata": {},
   "outputs": [],
   "source": [
    "df = df.select_dtypes(exclude=['object'])"
   ]
  },
  {
   "cell_type": "code",
   "execution_count": null,
   "metadata": {},
   "outputs": [],
   "source": [
    "# Calcular la matriz de correlación\n",
    "correlation_matrix = df.corr()\n",
    "\n",
    "# Visualizar la matriz de correlación\n",
    "correlation_matrix"
   ]
  },
  {
   "cell_type": "code",
   "execution_count": null,
   "metadata": {},
   "outputs": [],
   "source": [
    "df.head(20)"
   ]
  },
  {
   "cell_type": "markdown",
   "metadata": {},
   "source": [
    "## 3-DTale"
   ]
  },
  {
   "cell_type": "code",
   "execution_count": null,
   "metadata": {},
   "outputs": [],
   "source": [
    "!pip install dtale"
   ]
  },
  {
   "cell_type": "code",
   "execution_count": null,
   "metadata": {},
   "outputs": [],
   "source": [
    "import sqlite3\n",
    "import pandas as pd\n",
    "import dtale\n",
    "\n",
    "\n",
    "# Detectar columnas que causan errores al convertir a str\n",
    "columnas_validas = []\n",
    "for col in df.columns:\n",
    "    try:\n",
    "        df[col].astype(str)\n",
    "        columnas_validas.append(col)\n",
    "    except Exception as e:\n",
    "        print(f\"❌ Columna problemática: {col} -> {e}\")\n",
    "\n",
    "# Filtrar solo columnas válidas\n",
    "df_valid = df[columnas_validas]\n",
    "\n",
    "# Mostrar en DTale\n",
    "d = dtale.show(df_valid)\n",
    "d.open_browser()\n",
    "\n",
    "# Conexión a la base de datos\n",
    "conn = sqlite3.connect(\"inmuebles_final.db\")\n",
    "df = pd.read_sql(\"SELECT * FROM vista_inmuebles\", conn)\n",
    "conn.close()\n",
    "\n",
    "# Lanzar servidor interactivo\n",
    "d = dtale.show(df)\n",
    "d.open_browser()\n"
   ]
  }
 ],
 "metadata": {
  "kernelspec": {
   "display_name": ".venv",
   "language": "python",
   "name": "python3"
  },
  "language_info": {
   "codemirror_mode": {
    "name": "ipython",
    "version": 3
   },
   "file_extension": ".py",
   "mimetype": "text/x-python",
   "name": "python",
   "nbconvert_exporter": "python",
   "pygments_lexer": "ipython3",
   "version": "3.12.3"
  }
 },
 "nbformat": 4,
 "nbformat_minor": 2
}
